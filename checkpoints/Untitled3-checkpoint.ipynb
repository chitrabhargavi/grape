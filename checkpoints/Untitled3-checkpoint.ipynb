{
 "cells": [
  {
   "cell_type": "code",
   "execution_count": 2,
   "metadata": {},
   "outputs": [],
   "source": [
    "import os\n",
    "import cv2\n",
    "import numpy as np\n",
    "import pandas as pd\n",
    "import mahotas as mt\n",
    "from matplotlib import pyplot as plt\n",
    "import time\n",
    "from skimage.feature import greycomatrix, greycoprops"
   ]
  },
  {
   "cell_type": "code",
   "execution_count": 3,
   "metadata": {},
   "outputs": [],
   "source": [
    "def create_dataset(img_files,classname):\n",
    "    names = ['area','perimeter','physiological_length','physiological_width','aspect_ratio','rectangularity','circularity',\n",
    "             'mean_r','mean_g','mean_b','stddev_r','stddev_g','stddev_b','dissimilarity_l', 'contrast_l', 'homogeneity_l', 'energy_l', 'correlation_l',\n",
    "             'dissimilarity_u', 'contrast_u', 'homogeneity_u', 'energy_u', 'correlation_u']\n",
    "    df = pd.DataFrame([], columns=names)\n",
    "    for file in img_files:\n",
    "        imgpath = ds_path + \"/\" + file\n",
    "        print(imgpath)\n",
    "        main_img = cv2.imread(imgpath)\n",
    "        #cv2.imshow('original',main_img)\n",
    "        \n",
    "        vector = imageFeatureExtract(main_img,0) \n",
    "       \n",
    "        print(vector)\n",
    "        #cv2.waitKey()\n",
    "        print(len(vector),len(names))\n",
    "        df_temp = pd.DataFrame([vector],columns=names)\n",
    "        df = df.append(df_temp)\n",
    "        if (classname == 1):\n",
    "            df['class'] = 1\n",
    "        else:\n",
    "            df['class'] = 0\n",
    "        print(file)\n",
    "        \n",
    "    #cv2.waitKey()\n",
    "    return df\n"
   ]
  },
  {
   "cell_type": "code",
   "execution_count": 4,
   "metadata": {},
   "outputs": [
    {
     "ename": "FileNotFoundError",
     "evalue": "[WinError 3] The system cannot find the path specified: 'dataset/no'",
     "output_type": "error",
     "traceback": [
      "\u001b[1;31m---------------------------------------------------------------------------\u001b[0m",
      "\u001b[1;31mFileNotFoundError\u001b[0m                         Traceback (most recent call last)",
      "\u001b[1;32m<ipython-input-4-111b8744cb27>\u001b[0m in \u001b[0;36m<module>\u001b[1;34m\u001b[0m\n\u001b[0;32m      1\u001b[0m \u001b[0mds_path\u001b[0m \u001b[1;33m=\u001b[0m \u001b[1;34m\"dataset/no\"\u001b[0m\u001b[1;33m\u001b[0m\u001b[1;33m\u001b[0m\u001b[0m\n\u001b[1;32m----> 2\u001b[1;33m \u001b[0mimg_files\u001b[0m \u001b[1;33m=\u001b[0m \u001b[0mos\u001b[0m\u001b[1;33m.\u001b[0m\u001b[0mlistdir\u001b[0m\u001b[1;33m(\u001b[0m\u001b[0mds_path\u001b[0m\u001b[1;33m)\u001b[0m\u001b[1;33m\u001b[0m\u001b[1;33m\u001b[0m\u001b[0m\n\u001b[0m\u001b[0;32m      3\u001b[0m \u001b[1;33m\u001b[0m\u001b[0m\n\u001b[0;32m      4\u001b[0m \u001b[0mhealthy\u001b[0m \u001b[1;33m=\u001b[0m \u001b[0mcreate_dataset\u001b[0m\u001b[1;33m(\u001b[0m\u001b[0mimg_files\u001b[0m\u001b[1;33m,\u001b[0m \u001b[1;36m0\u001b[0m\u001b[1;33m)\u001b[0m\u001b[1;33m\u001b[0m\u001b[1;33m\u001b[0m\u001b[0m\n\u001b[0;32m      5\u001b[0m \u001b[0mhealthy\u001b[0m\u001b[1;33m.\u001b[0m\u001b[0mshape\u001b[0m\u001b[1;33m\u001b[0m\u001b[1;33m\u001b[0m\u001b[0m\n",
      "\u001b[1;31mFileNotFoundError\u001b[0m: [WinError 3] The system cannot find the path specified: 'dataset/no'"
     ]
    }
   ],
   "source": [
    "ds_path = \"dataset/no\"\n",
    "img_files = os.listdir(ds_path)\n",
    "\n",
    "healthy = create_dataset(img_files, 0)\n",
    "healthy.shape\n",
    "\n",
    "type(healthy)\n",
    "print(healthy.head())\n",
    "\n",
    "ds_path = \"dataset/yes\"\n",
    "img_files = os.listdir(ds_path)\n",
    "\n",
    "disease = create_dataset(img_files, 1)\n",
    "\n",
    "disease.shape\n",
    "\n",
    "type(disease)\n",
    "print(disease.head())\n",
    "print(disease.columns)\n",
    "\n",
    "df = healthy.append(disease)\n",
    "df.to_csv(\"brain_features.csv\")\n"
   ]
  },
  {
   "cell_type": "code",
   "execution_count": null,
   "metadata": {},
   "outputs": [],
   "source": []
  }
 ],
 "metadata": {
  "kernelspec": {
   "display_name": "tcl",
   "language": "python",
   "name": "tcl"
  },
  "language_info": {
   "codemirror_mode": {
    "name": "ipython",
    "version": 3
   },
   "file_extension": ".py",
   "mimetype": "text/x-python",
   "name": "python",
   "nbconvert_exporter": "python",
   "pygments_lexer": "ipython3",
   "version": "3.7.9"
  }
 },
 "nbformat": 4,
 "nbformat_minor": 4
}
